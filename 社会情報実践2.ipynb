{
  "nbformat": 4,
  "nbformat_minor": 0,
  "metadata": {
    "colab": {
      "provenance": []
    },
    "kernelspec": {
      "name": "python3",
      "display_name": "Python 3"
    },
    "language_info": {
      "name": "python"
    }
  },
  "cells": [
    {
      "cell_type": "code",
      "source": [
        "N = int(input(\"いくつまで数えますか\"))\n",
        "\n",
        "for i in range(1, N+1):\n",
        "  if i%15==0:\n",
        "    print(\"Fizz Buzz\")\n",
        "\n",
        "  elif i%3==0:\n",
        "    print(\"Fizz\")\n",
        "\n",
        "  elif i%5==0:\n",
        "    print(\"Buzz\")\n",
        "\n",
        "  else:\n",
        "    print(i)"
      ],
      "metadata": {
        "colab": {
          "base_uri": "https://localhost:8080/"
        },
        "id": "1MtIrOuC2QLz",
        "outputId": "e943dc23-9a39-45a1-ec2d-db6e0a7ee912"
      },
      "execution_count": 18,
      "outputs": [
        {
          "output_type": "stream",
          "name": "stdout",
          "text": [
            "いくつまで数えますか15\n",
            "1\n",
            "2\n",
            "Fizz\n",
            "4\n",
            "Buzz\n",
            "Fizz\n",
            "7\n",
            "8\n",
            "Fizz\n",
            "Buzz\n",
            "11\n",
            "Fizz\n",
            "13\n",
            "14\n",
            "Fizz Buzz\n"
          ]
        }
      ]
    }
  ]
}